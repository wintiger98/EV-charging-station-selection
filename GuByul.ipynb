{
 "cells": [
  {
   "cell_type": "code",
   "execution_count": null,
   "metadata": {},
   "outputs": [],
   "source": [
    "import pandas as pd\n",
    "\n",
    "df = pd.read_excel('../seoul_list(1).xlsx')"
   ]
  },
  {
   "cell_type": "code",
   "execution_count": null,
   "metadata": {},
   "outputs": [],
   "source": [
    "df.info()"
   ]
  },
  {
   "cell_type": "code",
   "execution_count": null,
   "metadata": {},
   "outputs": [],
   "source": [
    "df.head()"
   ]
  },
  {
   "cell_type": "code",
   "execution_count": null,
   "metadata": {},
   "outputs": [],
   "source": [
    "df_drop = df.drop(columns=['충전기 ID','지역','제한'])"
   ]
  },
  {
   "cell_type": "code",
   "execution_count": null,
   "metadata": {},
   "outputs": [],
   "source": [
    "df_sort_gu = df_drop.sort_values(by=['시군구','Unnamed: 13'], ascending=True)\n",
    "df_sungjung_gu = df_sort_gu[df_sort_gu['시군구']>='성동구']\n",
    "df_sungjung_gu.to_excel('test1.xlsx')"
   ]
  },
  {
   "cell_type": "code",
   "execution_count": null,
   "metadata": {},
   "outputs": [],
   "source": [
    "test = pd.read_excel('./test.xlsx')\n",
    "# test : 동 찾으려고 만든 엑셀파일. 동 없는 애들이 맨아래있었음.\n",
    "test.tail()"
   ]
  },
  {
   "cell_type": "code",
   "execution_count": null,
   "metadata": {},
   "outputs": [],
   "source": [
    "import re\n",
    "# 정규표현식으로 동만 남기기\n",
    "test[3959:]\n",
    "# 인덱스 3959부터 찾은 동들"
   ]
  },
  {
   "cell_type": "code",
   "execution_count": null,
   "metadata": {},
   "outputs": [],
   "source": [
    "test.loc[3959:,\"행정동\"]"
   ]
  },
  {
   "cell_type": "code",
   "execution_count": null,
   "metadata": {},
   "outputs": [],
   "source": [
    "def cleaning(x):\n",
    "    if str(x).find('|') != -1:\n",
    "        return str(x).split(\"|\")[0].split()[-1]\n",
    "    return str(x)\n",
    "\n",
    "test.loc[3959:,'행정동'] = test.loc[3959:,'행정동'].apply(cleaning).apply(lambda x:x.replace(' ',''))"
   ]
  },
  {
   "cell_type": "code",
   "execution_count": null,
   "metadata": {},
   "outputs": [],
   "source": [
    "test.loc[3959:,'행정동']"
   ]
  },
  {
   "cell_type": "code",
   "execution_count": null,
   "metadata": {},
   "outputs": [],
   "source": [
    "test.to_excel('test_comp.xlsx')"
   ]
  },
  {
   "cell_type": "code",
   "execution_count": null,
   "metadata": {},
   "outputs": [],
   "source": [
    "sungjung = pd.read_excel('test_comp.xlsx')\n",
    "sungjung.head()"
   ]
  },
  {
   "cell_type": "code",
   "execution_count": null,
   "metadata": {},
   "outputs": [],
   "source": [
    "sungjung.drop(columns=['Unnamed: 0','Unnamed: 0.1','Unnamed: 0.1.1'])"
   ]
  },
  {
   "cell_type": "code",
   "execution_count": null,
   "metadata": {},
   "outputs": [],
   "source": [
    "def clean_type(x):\n",
    "    if str(x).find(\"완속\") != -1:\n",
    "        return \"고속\"\n",
    "    return \"완속\""
   ]
  },
  {
   "cell_type": "code",
   "execution_count": null,
   "metadata": {},
   "outputs": [],
   "source": [
    "sungjung['타입'] = sungjung['타입'].apply(clean_type).apply(lambda x:x.replace(' ',''))\n",
    "sungjung.head()"
   ]
  },
  {
   "cell_type": "code",
   "execution_count": null,
   "metadata": {},
   "outputs": [],
   "source": [
    "sungjung.drop(columns=['Unnamed: 0','Unnamed: 0.1','Unnamed: 0.1.1'])"
   ]
  },
  {
   "cell_type": "code",
   "execution_count": null,
   "metadata": {},
   "outputs": [],
   "source": [
    "sungjung.to_excel('typeClear.xlsx')"
   ]
  },
  {
   "cell_type": "code",
   "execution_count": null,
   "metadata": {},
   "outputs": [],
   "source": [
    "df1 = pd.read_excel('typeClear.xlsx')\n",
    "df1.drop(columns=['Unnamed: 0','Unnamed: 0.1', 'Unnamed: 0.1.1','Unnamed: 0.1.1.1'])"
   ]
  },
  {
   "cell_type": "code",
   "execution_count": null,
   "metadata": {},
   "outputs": [],
   "source": [
    "groups = df1.groupby('행정동')\n",
    "groups.size()"
   ]
  },
  {
   "cell_type": "code",
   "execution_count": null,
   "metadata": {},
   "outputs": [],
   "source": [
    "# 제한x : 0, 제한 : 1\n",
    "def clean_bigo(x):\n",
    "    if str(x).find(\"제한\") != -1:\n",
    "        return 1\n",
    "    return 0\n",
    "\n",
    "# 24시간 : 1, 시간제한 : 0\n",
    "def clean_runtime(x):\n",
    "    if str(x).find(\"시간\") != -1:\n",
    "        return 1\n",
    "    return 0"
   ]
  },
  {
   "cell_type": "code",
   "execution_count": null,
   "metadata": {},
   "outputs": [],
   "source": [
    "df1['비고'] = df1['비고'].apply(clean_bigo)\n",
    "df1['이용가능시간'] = df1['이용가능시간'].apply(clean_runtime)"
   ]
  },
  {
   "cell_type": "code",
   "execution_count": null,
   "metadata": {},
   "outputs": [],
   "source": [
    "df1.head()\n",
    "df1.drop(columns=['Unnamed: 0','Unnamed: 0.1', 'Unnamed: 0.1.1','Unnamed: 0.1.1.1'])"
   ]
  },
  {
   "cell_type": "code",
   "execution_count": null,
   "metadata": {},
   "outputs": [],
   "source": [
    "def classifyAll(row):\n",
    "    lst = [0]*9\n",
    "    lst[0] = row[-1]\n",
    "    # 24시간이면\n",
    "    if row[-4] == 1:\n",
    "        # 고속이면\n",
    "        if row[-7] == '고속':\n",
    "            lst[1]+=1\n",
    "            if row[-2] == 1:\n",
    "                lst[2]+=1\n",
    "        else:\n",
    "            lst[5]+=1\n",
    "            if row[-2] == 1:\n",
    "                lst[6]+=1\n",
    "    else:\n",
    "        if row[-7] == '고속':\n",
    "            lst[3]+=1\n",
    "            if row[-2] == 1:\n",
    "                lst[4]+=1\n",
    "        else:\n",
    "            lst[7]+=1\n",
    "            if row[-2] == 1:\n",
    "                lst[8]+=1\n",
    "    return lst"
   ]
  },
  {
   "cell_type": "code",
   "execution_count": null,
   "metadata": {},
   "outputs": [],
   "source": [
    "df2 = df1"
   ]
  },
  {
   "cell_type": "code",
   "execution_count": null,
   "metadata": {},
   "outputs": [],
   "source": [
    "df2.drop(columns=['Unnamed: 0', 'Unnamed: 0.1', 'Unnamed: 0.1.1','Unnamed: 0.1.1.1'])"
   ]
  },
  {
   "cell_type": "code",
   "execution_count": null,
   "metadata": {},
   "outputs": [],
   "source": [
    "fin = df2.apply(classifyAll, axis=1)"
   ]
  },
  {
   "cell_type": "code",
   "execution_count": null,
   "metadata": {},
   "outputs": [],
   "source": [
    "type(fin)"
   ]
  },
  {
   "cell_type": "code",
   "execution_count": null,
   "metadata": {},
   "outputs": [],
   "source": [
    "col_name = ['dong','fulltime_fch','fulltime_fch_constraint','nonfulltime_fch','nonfulltime_fch_constraint','fulltime_sch','fulltime_sch_constraint','nonfulltime_sch','nonfulltime_sch_constraint']"
   ]
  },
  {
   "cell_type": "code",
   "execution_count": null,
   "metadata": {},
   "outputs": [],
   "source": [
    "fin_df = pd.DataFrame(fin.values.tolist())\n",
    "fin_df.columns=col_name\n",
    "fin_df"
   ]
  },
  {
   "cell_type": "code",
   "execution_count": null,
   "metadata": {},
   "outputs": [],
   "source": [
    "final = fin_df.groupby('dong').sum()"
   ]
  },
  {
   "cell_type": "code",
   "execution_count": null,
   "metadata": {},
   "outputs": [],
   "source": [
    "final.to_excel('final_gu.xlsx')"
   ]
  },
  {
   "cell_type": "code",
   "execution_count": null,
   "metadata": {},
   "outputs": [],
   "source": []
  }
 ],
 "metadata": {
  "interpreter": {
   "hash": "8f94479b2a08171ba1828a63de5ca55087d6de5ec124e7074b926f1ca5296e10"
  },
  "kernelspec": {
   "display_name": "Python 3.9.7 64-bit",
   "name": "python3"
  },
  "language_info": {
   "codemirror_mode": {
    "name": "ipython",
    "version": 3
   },
   "file_extension": ".py",
   "mimetype": "text/x-python",
   "name": "python",
   "nbconvert_exporter": "python",
   "pygments_lexer": "ipython3",
   "version": "3.9.7"
  },
  "orig_nbformat": 4
 },
 "nbformat": 4,
 "nbformat_minor": 2
}
