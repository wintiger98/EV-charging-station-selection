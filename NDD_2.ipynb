{
  "cells": [
    {
      "cell_type": "code",
      "execution_count": 20,
      "metadata": {
        "id": "x85oa8X9Xzqj"
      },
      "outputs": [],
      "source": [
        "import pandas as pd\n",
        "\n",
        "df1 = pd.read_excel('xlsx_/nonfulltimeDF.xlsx')\n",
        "df2 = pd.read_excel('xlsx_/fulltimeDF.xlsx')"
      ]
    },
    {
      "cell_type": "code",
      "execution_count": 22,
      "metadata": {
        "colab": {
          "base_uri": "https://localhost:8080/",
          "height": 324
        },
        "id": "Nhd-R_lpgvmt",
        "outputId": "057cdc3e-a410-4b19-e081-14a1d5ec2793"
      },
      "outputs": [
        {
          "data": {
            "text/html": [
              "<div>\n",
              "<style scoped>\n",
              "    .dataframe tbody tr th:only-of-type {\n",
              "        vertical-align: middle;\n",
              "    }\n",
              "\n",
              "    .dataframe tbody tr th {\n",
              "        vertical-align: top;\n",
              "    }\n",
              "\n",
              "    .dataframe thead th {\n",
              "        text-align: right;\n",
              "    }\n",
              "</style>\n",
              "<table border=\"1\" class=\"dataframe\">\n",
              "  <thead>\n",
              "    <tr style=\"text-align: right;\">\n",
              "      <th></th>\n",
              "      <th>dong</th>\n",
              "      <th>highway</th>\n",
              "      <th>ffnc</th>\n",
              "      <th>nfnc</th>\n",
              "      <th>nfc</th>\n",
              "      <th>fsnc</th>\n",
              "      <th>fsc</th>\n",
              "      <th>nsnc</th>\n",
              "      <th>nsc</th>\n",
              "      <th>affnc</th>\n",
              "      <th>anfnc</th>\n",
              "      <th>anfc</th>\n",
              "      <th>afsnc</th>\n",
              "      <th>afsc</th>\n",
              "      <th>ansnc</th>\n",
              "      <th>ansc</th>\n",
              "      <th>population</th>\n",
              "    </tr>\n",
              "  </thead>\n",
              "  <tbody>\n",
              "    <tr>\n",
              "      <th>0</th>\n",
              "      <td>가락1동</td>\n",
              "      <td>0.0</td>\n",
              "      <td>0.225806</td>\n",
              "      <td>0.00</td>\n",
              "      <td>0.0</td>\n",
              "      <td>0.164634</td>\n",
              "      <td>0.000000</td>\n",
              "      <td>0.02</td>\n",
              "      <td>0.000000</td>\n",
              "      <td>0.077419</td>\n",
              "      <td>0.00</td>\n",
              "      <td>0.000000</td>\n",
              "      <td>0.047561</td>\n",
              "      <td>0.022764</td>\n",
              "      <td>0.012</td>\n",
              "      <td>0.034783</td>\n",
              "      <td>0.155581</td>\n",
              "    </tr>\n",
              "    <tr>\n",
              "      <th>1</th>\n",
              "      <td>가락2동</td>\n",
              "      <td>0.0</td>\n",
              "      <td>0.161290</td>\n",
              "      <td>0.00</td>\n",
              "      <td>0.0</td>\n",
              "      <td>0.024390</td>\n",
              "      <td>0.016260</td>\n",
              "      <td>0.08</td>\n",
              "      <td>0.000000</td>\n",
              "      <td>0.038710</td>\n",
              "      <td>0.01</td>\n",
              "      <td>0.033333</td>\n",
              "      <td>0.056098</td>\n",
              "      <td>0.043902</td>\n",
              "      <td>0.064</td>\n",
              "      <td>0.130435</td>\n",
              "      <td>0.154967</td>\n",
              "    </tr>\n",
              "    <tr>\n",
              "      <th>2</th>\n",
              "      <td>가락본동</td>\n",
              "      <td>0.0</td>\n",
              "      <td>0.032258</td>\n",
              "      <td>0.00</td>\n",
              "      <td>0.0</td>\n",
              "      <td>0.146341</td>\n",
              "      <td>0.154472</td>\n",
              "      <td>0.04</td>\n",
              "      <td>0.260870</td>\n",
              "      <td>0.045161</td>\n",
              "      <td>0.01</td>\n",
              "      <td>0.033333</td>\n",
              "      <td>0.040244</td>\n",
              "      <td>0.040650</td>\n",
              "      <td>0.064</td>\n",
              "      <td>0.078261</td>\n",
              "      <td>0.264574</td>\n",
              "    </tr>\n",
              "    <tr>\n",
              "      <th>3</th>\n",
              "      <td>가리봉동</td>\n",
              "      <td>0.0</td>\n",
              "      <td>0.032258</td>\n",
              "      <td>0.05</td>\n",
              "      <td>0.0</td>\n",
              "      <td>0.006098</td>\n",
              "      <td>0.000000</td>\n",
              "      <td>0.74</td>\n",
              "      <td>0.000000</td>\n",
              "      <td>0.283871</td>\n",
              "      <td>0.08</td>\n",
              "      <td>0.233333</td>\n",
              "      <td>0.293902</td>\n",
              "      <td>0.034146</td>\n",
              "      <td>0.392</td>\n",
              "      <td>0.234783</td>\n",
              "      <td>0.062857</td>\n",
              "    </tr>\n",
              "    <tr>\n",
              "      <th>4</th>\n",
              "      <td>가산동</td>\n",
              "      <td>0.0</td>\n",
              "      <td>1.000000</td>\n",
              "      <td>0.20</td>\n",
              "      <td>1.0</td>\n",
              "      <td>1.000000</td>\n",
              "      <td>0.065041</td>\n",
              "      <td>0.86</td>\n",
              "      <td>0.913043</td>\n",
              "      <td>0.335484</td>\n",
              "      <td>0.12</td>\n",
              "      <td>0.233333</td>\n",
              "      <td>0.343902</td>\n",
              "      <td>0.058537</td>\n",
              "      <td>0.408</td>\n",
              "      <td>0.286957</td>\n",
              "      <td>0.636785</td>\n",
              "    </tr>\n",
              "  </tbody>\n",
              "</table>\n",
              "</div>"
            ],
            "text/plain": [
              "   dong  highway      ffnc  nfnc  nfc      fsnc       fsc  nsnc       nsc  \\\n",
              "0  가락1동      0.0  0.225806  0.00  0.0  0.164634  0.000000  0.02  0.000000   \n",
              "1  가락2동      0.0  0.161290  0.00  0.0  0.024390  0.016260  0.08  0.000000   \n",
              "2  가락본동      0.0  0.032258  0.00  0.0  0.146341  0.154472  0.04  0.260870   \n",
              "3  가리봉동      0.0  0.032258  0.05  0.0  0.006098  0.000000  0.74  0.000000   \n",
              "4   가산동      0.0  1.000000  0.20  1.0  1.000000  0.065041  0.86  0.913043   \n",
              "\n",
              "      affnc  anfnc      anfc     afsnc      afsc  ansnc      ansc  population  \n",
              "0  0.077419   0.00  0.000000  0.047561  0.022764  0.012  0.034783    0.155581  \n",
              "1  0.038710   0.01  0.033333  0.056098  0.043902  0.064  0.130435    0.154967  \n",
              "2  0.045161   0.01  0.033333  0.040244  0.040650  0.064  0.078261    0.264574  \n",
              "3  0.283871   0.08  0.233333  0.293902  0.034146  0.392  0.234783    0.062857  \n",
              "4  0.335484   0.12  0.233333  0.343902  0.058537  0.408  0.286957    0.636785  "
            ]
          },
          "execution_count": 22,
          "metadata": {},
          "output_type": "execute_result"
        }
      ],
      "source": [
        "df2.head()"
      ]
    },
    {
      "cell_type": "code",
      "execution_count": 23,
      "metadata": {
        "id": "BmY7fPN0scg-"
      },
      "outputs": [
        {
          "data": {
            "text/html": [
              "<div>\n",
              "<style scoped>\n",
              "    .dataframe tbody tr th:only-of-type {\n",
              "        vertical-align: middle;\n",
              "    }\n",
              "\n",
              "    .dataframe tbody tr th {\n",
              "        vertical-align: top;\n",
              "    }\n",
              "\n",
              "    .dataframe thead th {\n",
              "        text-align: right;\n",
              "    }\n",
              "</style>\n",
              "<table border=\"1\" class=\"dataframe\">\n",
              "  <thead>\n",
              "    <tr style=\"text-align: right;\">\n",
              "      <th></th>\n",
              "      <th>dong</th>\n",
              "      <th>highway</th>\n",
              "      <th>ffnc</th>\n",
              "      <th>nfnc</th>\n",
              "      <th>nfc</th>\n",
              "      <th>fsnc</th>\n",
              "      <th>fsc</th>\n",
              "      <th>nsnc</th>\n",
              "      <th>nsc</th>\n",
              "      <th>affnc</th>\n",
              "      <th>anfnc</th>\n",
              "      <th>anfc</th>\n",
              "      <th>afsnc</th>\n",
              "      <th>afsc</th>\n",
              "      <th>ansnc</th>\n",
              "      <th>ansc</th>\n",
              "      <th>population</th>\n",
              "    </tr>\n",
              "  </thead>\n",
              "  <tbody>\n",
              "    <tr>\n",
              "      <th>0</th>\n",
              "      <td>가락1동</td>\n",
              "      <td>0.0</td>\n",
              "      <td>0.225806</td>\n",
              "      <td>0.00</td>\n",
              "      <td>0.0</td>\n",
              "      <td>0.164634</td>\n",
              "      <td>0.000000</td>\n",
              "      <td>0.02</td>\n",
              "      <td>0.000000</td>\n",
              "      <td>0.077419</td>\n",
              "      <td>0.00</td>\n",
              "      <td>0.000000</td>\n",
              "      <td>0.047561</td>\n",
              "      <td>0.022764</td>\n",
              "      <td>0.012</td>\n",
              "      <td>0.034783</td>\n",
              "      <td>0.155581</td>\n",
              "    </tr>\n",
              "    <tr>\n",
              "      <th>1</th>\n",
              "      <td>가락2동</td>\n",
              "      <td>0.0</td>\n",
              "      <td>0.161290</td>\n",
              "      <td>0.00</td>\n",
              "      <td>0.0</td>\n",
              "      <td>0.024390</td>\n",
              "      <td>0.016260</td>\n",
              "      <td>0.08</td>\n",
              "      <td>0.000000</td>\n",
              "      <td>0.038710</td>\n",
              "      <td>0.01</td>\n",
              "      <td>0.033333</td>\n",
              "      <td>0.056098</td>\n",
              "      <td>0.043902</td>\n",
              "      <td>0.064</td>\n",
              "      <td>0.130435</td>\n",
              "      <td>0.154967</td>\n",
              "    </tr>\n",
              "    <tr>\n",
              "      <th>2</th>\n",
              "      <td>가락본동</td>\n",
              "      <td>0.0</td>\n",
              "      <td>0.032258</td>\n",
              "      <td>0.00</td>\n",
              "      <td>0.0</td>\n",
              "      <td>0.146341</td>\n",
              "      <td>0.154472</td>\n",
              "      <td>0.04</td>\n",
              "      <td>0.260870</td>\n",
              "      <td>0.045161</td>\n",
              "      <td>0.01</td>\n",
              "      <td>0.033333</td>\n",
              "      <td>0.040244</td>\n",
              "      <td>0.040650</td>\n",
              "      <td>0.064</td>\n",
              "      <td>0.078261</td>\n",
              "      <td>0.264574</td>\n",
              "    </tr>\n",
              "    <tr>\n",
              "      <th>3</th>\n",
              "      <td>가리봉동</td>\n",
              "      <td>0.0</td>\n",
              "      <td>0.032258</td>\n",
              "      <td>0.05</td>\n",
              "      <td>0.0</td>\n",
              "      <td>0.006098</td>\n",
              "      <td>0.000000</td>\n",
              "      <td>0.74</td>\n",
              "      <td>0.000000</td>\n",
              "      <td>0.283871</td>\n",
              "      <td>0.08</td>\n",
              "      <td>0.233333</td>\n",
              "      <td>0.293902</td>\n",
              "      <td>0.034146</td>\n",
              "      <td>0.392</td>\n",
              "      <td>0.234783</td>\n",
              "      <td>0.062857</td>\n",
              "    </tr>\n",
              "    <tr>\n",
              "      <th>4</th>\n",
              "      <td>가산동</td>\n",
              "      <td>0.0</td>\n",
              "      <td>1.000000</td>\n",
              "      <td>0.20</td>\n",
              "      <td>1.0</td>\n",
              "      <td>1.000000</td>\n",
              "      <td>0.065041</td>\n",
              "      <td>0.86</td>\n",
              "      <td>0.913043</td>\n",
              "      <td>0.335484</td>\n",
              "      <td>0.12</td>\n",
              "      <td>0.233333</td>\n",
              "      <td>0.343902</td>\n",
              "      <td>0.058537</td>\n",
              "      <td>0.408</td>\n",
              "      <td>0.286957</td>\n",
              "      <td>0.636785</td>\n",
              "    </tr>\n",
              "  </tbody>\n",
              "</table>\n",
              "</div>"
            ],
            "text/plain": [
              "   dong  highway      ffnc  nfnc  nfc      fsnc       fsc  nsnc       nsc  \\\n",
              "0  가락1동      0.0  0.225806  0.00  0.0  0.164634  0.000000  0.02  0.000000   \n",
              "1  가락2동      0.0  0.161290  0.00  0.0  0.024390  0.016260  0.08  0.000000   \n",
              "2  가락본동      0.0  0.032258  0.00  0.0  0.146341  0.154472  0.04  0.260870   \n",
              "3  가리봉동      0.0  0.032258  0.05  0.0  0.006098  0.000000  0.74  0.000000   \n",
              "4   가산동      0.0  1.000000  0.20  1.0  1.000000  0.065041  0.86  0.913043   \n",
              "\n",
              "      affnc  anfnc      anfc     afsnc      afsc  ansnc      ansc  population  \n",
              "0  0.077419   0.00  0.000000  0.047561  0.022764  0.012  0.034783    0.155581  \n",
              "1  0.038710   0.01  0.033333  0.056098  0.043902  0.064  0.130435    0.154967  \n",
              "2  0.045161   0.01  0.033333  0.040244  0.040650  0.064  0.078261    0.264574  \n",
              "3  0.283871   0.08  0.233333  0.293902  0.034146  0.392  0.234783    0.062857  \n",
              "4  0.335484   0.12  0.233333  0.343902  0.058537  0.408  0.286957    0.636785  "
            ]
          },
          "execution_count": 23,
          "metadata": {},
          "output_type": "execute_result"
        }
      ],
      "source": [
        "# null값을 0으로 채워둡니다.\n",
        "df2  = df2.fillna(0)\n",
        "df2.head()"
      ]
    },
    {
      "cell_type": "code",
      "execution_count": 34,
      "metadata": {
        "id": "dNrAEHm3h0up"
      },
      "outputs": [],
      "source": [
        "# 다중선형회귀 돌리기\n",
        "# 먼저 데이터 셋을 트레인 셋과 test set으로 분리시키자.\n",
        "from sklearn.model_selection import train_test_split\n",
        "import numpy as np\n",
        "import tensorflow as tf\n",
        "seed = 100\n",
        "np.random.seed(seed)\n",
        "tf.random.set_seed(seed)\n",
        "data = df2.values\n",
        "x = data[:,1:16].astype(float)\n",
        "y = data[:,16].astype(float)\n",
        "x_train, x_test, y_train, y_test = train_test_split(x, y, train_size=0.7, test_size=0.3, random_state = seed)\n"
      ]
    },
    {
      "cell_type": "code",
      "execution_count": 35,
      "metadata": {
        "id": "kOIWbCUl2TVQ"
      },
      "outputs": [],
      "source": [
        "from keras.layers import Dense\n",
        "from keras.models import Sequential\n"
      ]
    },
    {
      "cell_type": "code",
      "execution_count": 36,
      "metadata": {
        "colab": {
          "base_uri": "https://localhost:8080/"
        },
        "id": "G9LNoK5S2TXh",
        "outputId": "4c0e30e5-23eb-4b84-9190-433cf69fcd71"
      },
      "outputs": [
        {
          "name": "stdout",
          "output_type": "stream",
          "text": [
            "Epoch 1/50\n",
            "30/30 [==============================] - 0s 2ms/step - loss: 0.0182\n",
            "Epoch 2/50\n",
            "30/30 [==============================] - 0s 2ms/step - loss: 0.0112\n",
            "Epoch 3/50\n",
            "30/30 [==============================] - 0s 2ms/step - loss: 0.0094\n",
            "Epoch 4/50\n",
            "30/30 [==============================] - 0s 2ms/step - loss: 0.0083\n",
            "Epoch 5/50\n",
            "30/30 [==============================] - 0s 2ms/step - loss: 0.0075\n",
            "Epoch 6/50\n",
            "30/30 [==============================] - 0s 2ms/step - loss: 0.0070\n",
            "Epoch 7/50\n",
            "30/30 [==============================] - 0s 2ms/step - loss: 0.0066\n",
            "Epoch 8/50\n",
            "30/30 [==============================] - 0s 2ms/step - loss: 0.0065\n",
            "Epoch 9/50\n",
            "30/30 [==============================] - 0s 2ms/step - loss: 0.0063\n",
            "Epoch 10/50\n",
            "30/30 [==============================] - 0s 2ms/step - loss: 0.0061\n",
            "Epoch 11/50\n",
            "30/30 [==============================] - 0s 2ms/step - loss: 0.0061\n",
            "Epoch 12/50\n",
            "30/30 [==============================] - 0s 2ms/step - loss: 0.0060\n",
            "Epoch 13/50\n",
            "30/30 [==============================] - 0s 2ms/step - loss: 0.0058\n",
            "Epoch 14/50\n",
            "30/30 [==============================] - 0s 2ms/step - loss: 0.0057\n",
            "Epoch 15/50\n",
            "30/30 [==============================] - 0s 2ms/step - loss: 0.0057\n",
            "Epoch 16/50\n",
            "30/30 [==============================] - 0s 2ms/step - loss: 0.0056\n",
            "Epoch 17/50\n",
            "30/30 [==============================] - 0s 2ms/step - loss: 0.0057\n",
            "Epoch 18/50\n",
            "30/30 [==============================] - 0s 2ms/step - loss: 0.0056\n",
            "Epoch 19/50\n",
            "30/30 [==============================] - 0s 2ms/step - loss: 0.0055\n",
            "Epoch 20/50\n",
            "30/30 [==============================] - 0s 2ms/step - loss: 0.0055\n",
            "Epoch 21/50\n",
            "30/30 [==============================] - 0s 2ms/step - loss: 0.0053\n",
            "Epoch 22/50\n",
            "30/30 [==============================] - 0s 2ms/step - loss: 0.0053\n",
            "Epoch 23/50\n",
            "30/30 [==============================] - 0s 2ms/step - loss: 0.0055\n",
            "Epoch 24/50\n",
            "30/30 [==============================] - 0s 2ms/step - loss: 0.0054\n",
            "Epoch 25/50\n",
            "30/30 [==============================] - 0s 2ms/step - loss: 0.0052\n",
            "Epoch 26/50\n",
            "30/30 [==============================] - 0s 2ms/step - loss: 0.0053\n",
            "Epoch 27/50\n",
            "30/30 [==============================] - 0s 2ms/step - loss: 0.0052\n",
            "Epoch 28/50\n",
            "30/30 [==============================] - 0s 2ms/step - loss: 0.0051\n",
            "Epoch 29/50\n",
            "30/30 [==============================] - 0s 2ms/step - loss: 0.0052\n",
            "Epoch 30/50\n",
            "30/30 [==============================] - 0s 2ms/step - loss: 0.0050\n",
            "Epoch 31/50\n",
            "30/30 [==============================] - 0s 2ms/step - loss: 0.0050\n",
            "Epoch 32/50\n",
            "30/30 [==============================] - 0s 2ms/step - loss: 0.0050\n",
            "Epoch 33/50\n",
            "30/30 [==============================] - 0s 2ms/step - loss: 0.0049\n",
            "Epoch 34/50\n",
            "30/30 [==============================] - 0s 2ms/step - loss: 0.0049\n",
            "Epoch 35/50\n",
            "30/30 [==============================] - 0s 2ms/step - loss: 0.0049\n",
            "Epoch 36/50\n",
            "30/30 [==============================] - 0s 2ms/step - loss: 0.0048\n",
            "Epoch 37/50\n",
            "30/30 [==============================] - 0s 2ms/step - loss: 0.0047\n",
            "Epoch 38/50\n",
            "30/30 [==============================] - 0s 2ms/step - loss: 0.0047\n",
            "Epoch 39/50\n",
            "30/30 [==============================] - 0s 2ms/step - loss: 0.0047\n",
            "Epoch 40/50\n",
            "30/30 [==============================] - 0s 2ms/step - loss: 0.0048\n",
            "Epoch 41/50\n",
            "30/30 [==============================] - 0s 2ms/step - loss: 0.0046\n",
            "Epoch 42/50\n",
            "30/30 [==============================] - 0s 2ms/step - loss: 0.0046\n",
            "Epoch 43/50\n",
            "30/30 [==============================] - 0s 2ms/step - loss: 0.0045\n",
            "Epoch 44/50\n",
            "30/30 [==============================] - 0s 2ms/step - loss: 0.0046\n",
            "Epoch 45/50\n",
            "30/30 [==============================] - 0s 2ms/step - loss: 0.0045\n",
            "Epoch 46/50\n",
            "30/30 [==============================] - 0s 2ms/step - loss: 0.0046\n",
            "Epoch 47/50\n",
            "30/30 [==============================] - 0s 2ms/step - loss: 0.0045\n",
            "Epoch 48/50\n",
            "30/30 [==============================] - 0s 2ms/step - loss: 0.0045\n",
            "Epoch 49/50\n",
            "30/30 [==============================] - 0s 2ms/step - loss: 0.0044\n",
            "Epoch 50/50\n",
            "30/30 [==============================] - 0s 2ms/step - loss: 0.0045\n"
          ]
        },
        {
          "data": {
            "text/plain": [
              "<keras.callbacks.History at 0x7f2d6a39cc10>"
            ]
          },
          "execution_count": 36,
          "metadata": {},
          "output_type": "execute_result"
        }
      ],
      "source": [
        "model = Sequential()\n",
        "model.add(Dense(30,input_dim = 15, activation= 'relu'))\n",
        "model.add(Dense(6,activation='relu'))\n",
        "model.add(Dense(1))\n",
        "\n",
        "model.compile(loss = 'mean_squared_error', optimizer = 'adam')\n",
        "model.fit(x_train, y_train, epochs = 50, batch_size = 10)"
      ]
    },
    {
      "cell_type": "code",
      "execution_count": 37,
      "metadata": {
        "colab": {
          "base_uri": "https://localhost:8080/",
          "height": 313
        },
        "id": "tdswqfmk2TZ3",
        "outputId": "4379eee7-cdf8-4508-831c-69293166b6fc"
      },
      "outputs": [
        {
          "data": {
            "image/png": "[encoded data removed]",
            "text/plain": [
              "<Figure size 432x288 with 1 Axes>"
            ]
          },
          "metadata": {
            "needs_background": "light"
          },
          "output_type": "display_data"
        },
        {
          "data": {
            "text/plain": [
              "<Figure size 432x288 with 0 Axes>"
            ]
          },
          "metadata": {},
          "output_type": "display_data"
        }
      ],
      "source": [
        "y_predict = model.predict(x_test)\n",
        "\n",
        "import matplotlib.pyplot as plt\n",
        "plt.scatter(y_test, y_predict, alpha=0.4)\n",
        "plt.plot([0,1],[0,1], c = 'red')\n",
        "plt.xlabel(\"Actual population\")\n",
        "plt.ylabel(\"Predicted population\")\n",
        "plt.title(\"Deep Neural Network dense 37\")\n",
        "plt.show()\n",
        "plt.savefig('DNN37.jpg')\n"
      ]
    },
    {
      "cell_type": "code",
      "execution_count": 38,
      "metadata": {
        "colab": {
          "base_uri": "https://localhost:8080/",
          "height": 313
        },
        "id": "4r9GO7Ma2TcU",
        "outputId": "ec79b454-8711-4b91-9b26-c6097e3bbdf1"
      },
      "outputs": [
        {
          "data": {
            "image/png": "[encoded data removed]",
            "text/plain": [
              "<Figure size 432x288 with 1 Axes>"
            ]
          },
          "metadata": {
            "needs_background": "light"
          },
          "output_type": "display_data"
        },
        {
          "data": {
            "text/plain": [
              "<Figure size 432x288 with 0 Axes>"
            ]
          },
          "metadata": {},
          "output_type": "display_data"
        }
      ],
      "source": [
        "# plot all data\n",
        "y_predict = model.predict(x)\n",
        "\n",
        "import matplotlib.pyplot as plt\n",
        "plt.scatter(y, y_predict, alpha=0.4)\n",
        "plt.plot([0,1],[0,1], c = 'red')\n",
        "plt.xlabel(\"Actual population\")\n",
        "plt.ylabel(\"Predicted population\")\n",
        "plt.title(\"Deep Neural Network dense 37\")\n",
        "plt.show()\n",
        "plt.savefig('DNN37.jpg')\n"
      ]
    },
    {
      "cell_type": "code",
      "execution_count": null,
      "metadata": {
        "id": "bRNnVTYR2Tes"
      },
      "outputs": [],
      "source": []
    },
    {
      "cell_type": "code",
      "execution_count": null,
      "metadata": {
        "id": "0gFSn3KV2Thq"
      },
      "outputs": [],
      "source": []
    }
  ],
  "metadata": {
    "colab": {
      "collapsed_sections": [],
      "name": "NDD.ipynb",
      "provenance": []
    },
    "interpreter": {
      "hash": "8f94479b2a08171ba1828a63de5ca55087d6de5ec124e7074b926f1ca5296e10"
    },
    "kernelspec": {
      "display_name": "Python 3.9.7 64-bit",
      "name": "python3"
    },
    "language_info": {
      "codemirror_mode": {
        "name": "ipython",
        "version": 3
      },
      "file_extension": ".py",
      "mimetype": "text/x-python",
      "name": "python",
      "nbconvert_exporter": "python",
      "pygments_lexer": "ipython3",
      "version": "3.9.7"
    }
  },
  "nbformat": 4,
  "nbformat_minor": 0
}
